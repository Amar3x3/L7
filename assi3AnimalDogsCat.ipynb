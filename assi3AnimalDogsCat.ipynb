{
  "nbformat": 4,
  "nbformat_minor": 0,
  "metadata": {
    "colab": {
      "provenance": []
    },
    "kernelspec": {
      "name": "python3",
      "display_name": "Python 3"
    },
    "language_info": {
      "name": "python"
    }
  },
  "cells": [
    {
      "cell_type": "code",
      "execution_count": 1,
      "metadata": {
        "id": "j5EL2w-59xwn"
      },
      "outputs": [],
      "source": [
        "import tensorflow\n",
        "from tensorflow.keras.datasets import mnist\n",
        "from matplotlib import pyplot as plt\n",
        "from tensorflow.keras.utils import to_categorical\n",
        "from tensorflow.keras.models import Sequential\n",
        "from tensorflow.keras.layers import Conv2D,MaxPooling2D,Dense,Flatten\n",
        "from tensorflow.keras.optimizers import SGD\n",
        "import numpy as np\n",
        "import random\n",
        "import matplotlib.pyplot as plt"
      ]
    },
    {
      "cell_type": "code",
      "source": [
        "x_train = np.loadtxt('input.csv', delimiter = ',')\n",
        "y_train = np.loadtxt('labels.csv', delimiter = ',')\n",
        "x_test = np.loadtxt('input_test.csv', delimiter = ',')\n",
        "y_test = np.loadtxt('labels_test.csv', delimiter = ',')"
      ],
      "metadata": {
        "id": "ttrLQu4n-BI9"
      },
      "execution_count": null,
      "outputs": []
    },
    {
      "cell_type": "code",
      "source": [
        "x_train = x_train.reshape(len(x_train), 100, 100, 3)\n",
        "y_train = y_train.reshape(len(y_train), 1)\n",
        "x_test = x_test.reshape(len(x_test), 100, 100, 3)\n",
        "Y_test = y_test.reshape(len(y_test), 1)\n",
        "x_train = x_train/255.0\n",
        "x_test = x_test/255.0\n",
        "print(\"Shape of X_train: \", x_train.shape)\n",
        "print(\"Shape of Y_train: \", y_train.shape)\n",
        "print(\"Shape of X_test: \", x_test.shape)\n",
        "print(\"Shape of Y_test: \", y_test.shape)"
      ],
      "metadata": {
        "id": "luJk9dII974R"
      },
      "execution_count": null,
      "outputs": []
    },
    {
      "cell_type": "code",
      "source": [
        "i = random.randint(0, len(x_train))\n",
        "plt.imshow(x_train[i, :])\n",
        "plt.show()\n"
      ],
      "metadata": {
        "id": "-2qW-xlt-ETX"
      },
      "execution_count": null,
      "outputs": []
    },
    {
      "cell_type": "code",
      "source": [
        "model = Sequential([\n",
        "Conv2D(32, (3,3), activation = 'relu', input_shape = (100, 100, 3)),\n",
        "MaxPooling2D((2,2)),\n",
        "Conv2D(32, (3,3), activation = 'relu'),\n",
        "MaxPooling2D((2,2)),\n",
        "Flatten(),\n",
        "Dense(64, activation = 'relu'),\n",
        "Dense(1, activation = 'sigmoid')\n",
        "]"
      ],
      "metadata": {
        "id": "j5rRIfQD-Eqz"
      },
      "execution_count": null,
      "outputs": []
    },
    {
      "cell_type": "code",
      "source": [
        "model.compile(loss = 'binary_crossentropy', optimizer = 'adam', metrics = ['accuracy'])\n",
        "H=model.fit(x_train,y_train, epochs = 10, batch_size = 64, validation_data=(x_test,y_test))"
      ],
      "metadata": {
        "id": "HAd_6p5_-SK_"
      },
      "execution_count": null,
      "outputs": []
    },
    {
      "cell_type": "code",
      "source": [
        "test_loss,test_acc=model.evaluate(x_test,y_test) #evaluate the model for the test set\n",
        "#Print the accuracy and the loss of the model\n",
        "print(\"Loss=%.3f\"%test_loss)\n",
        "print(\"Accuracy=%.3f\"%test_acc)test_loss,test_acc=model.evaluate(x_test,y_test) #evaluate the model for the test set\n",
        "#Print the accuracy and the loss of the model\n",
        "print(\"Loss=%.3f\"%test_loss)\n",
        "print(\"Accuracy=%.3f\"%test_acc)"
      ],
      "metadata": {
        "id": "0_b3NJAz-ekD"
      },
      "execution_count": null,
      "outputs": []
    },
    {
      "cell_type": "code",
      "source": [
        "i = random.randint(0, len(Y_test))\n",
        "plt.imshow(x_test[i, :])\n",
        "plt.show()\n",
        "y_pred = model.predict(x_test[i, :].reshape(1, 100, 100, 3))\n",
        "y_pred = y_pred > 0.5\n",
        "if(y_pred == 0):\n",
        "  pred = 'dog\n",
        "else:\n",
        "  pred = 'cat'\n",
        "print(\"Our model says it is a :\", pred)"
      ],
      "metadata": {
        "id": "wXVHnyGm-ja2"
      },
      "execution_count": null,
      "outputs": []
    },
    {
      "cell_type": "code",
      "source": [
        "plt.plot(H.history['accuracy']) #get the accuracy for the training set from the model's history attribute\n",
        "plt.plot(H.history['val_accuracy']) #get the loss for the training set from the model's history attribute\n",
        "plt.title('Training and Validation Accuracy')\n",
        "plt.ylabel('accuracy')\n",
        "plt.xlabel('epoch')\n",
        "plt.legend(['Training', 'Validation'])"
      ],
      "metadata": {
        "id": "H0r4PGQO-vMM"
      },
      "execution_count": null,
      "outputs": []
    },
    {
      "cell_type": "code",
      "source": [
        "plt.plot(H.history['loss']) #get the accuracy for the training set from the model's history attribute\n",
        "plt.plot(H.history['val_loss']) #get the loss for the training set from the model's history attribute\n",
        "plt.title('Training and Validation Loss')\n",
        "plt.ylabel('loss')\n",
        "plt.xlabel('epoch')\n",
        "plt.legend(['Training', 'Validation'])"
      ],
      "metadata": {
        "id": "N8m_pMmx-zK0"
      },
      "execution_count": null,
      "outputs": []
    }
  ]
}